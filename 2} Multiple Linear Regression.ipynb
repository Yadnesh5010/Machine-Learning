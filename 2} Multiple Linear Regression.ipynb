{
 "cells": [
  {
   "cell_type": "markdown",
   "metadata": {},
   "source": [
    "# Multiple Linear Regression"
   ]
  },
  {
   "cell_type": "code",
   "execution_count": 39,
   "metadata": {},
   "outputs": [],
   "source": [
    "import numpy as np\n",
    "import pandas as pd\n",
    "import matplotlib.pyplot as plt"
   ]
  },
  {
   "cell_type": "code",
   "execution_count": 40,
   "metadata": {},
   "outputs": [
    {
     "data": {
      "text/html": [
       "<div>\n",
       "<style scoped>\n",
       "    .dataframe tbody tr th:only-of-type {\n",
       "        vertical-align: middle;\n",
       "    }\n",
       "\n",
       "    .dataframe tbody tr th {\n",
       "        vertical-align: top;\n",
       "    }\n",
       "\n",
       "    .dataframe thead th {\n",
       "        text-align: right;\n",
       "    }\n",
       "</style>\n",
       "<table border=\"1\" class=\"dataframe\">\n",
       "  <thead>\n",
       "    <tr style=\"text-align: right;\">\n",
       "      <th></th>\n",
       "      <th>Year</th>\n",
       "      <th>Population</th>\n",
       "      <th>ChangePerc</th>\n",
       "      <th>NetChange</th>\n",
       "      <th>Density</th>\n",
       "      <th>Urban</th>\n",
       "      <th>UrbanPerc</th>\n",
       "    </tr>\n",
       "  </thead>\n",
       "  <tbody>\n",
       "    <tr>\n",
       "      <th>0</th>\n",
       "      <td>2020</td>\n",
       "      <td>7794798739</td>\n",
       "      <td>1.05</td>\n",
       "      <td>81330639</td>\n",
       "      <td>52</td>\n",
       "      <td>4378993944</td>\n",
       "      <td>56</td>\n",
       "    </tr>\n",
       "    <tr>\n",
       "      <th>1</th>\n",
       "      <td>2019</td>\n",
       "      <td>7713468100</td>\n",
       "      <td>1.08</td>\n",
       "      <td>82377060</td>\n",
       "      <td>52</td>\n",
       "      <td>4299438618</td>\n",
       "      <td>56</td>\n",
       "    </tr>\n",
       "    <tr>\n",
       "      <th>2</th>\n",
       "      <td>2018</td>\n",
       "      <td>7631091040</td>\n",
       "      <td>1.10</td>\n",
       "      <td>83232115</td>\n",
       "      <td>51</td>\n",
       "      <td>4219817318</td>\n",
       "      <td>55</td>\n",
       "    </tr>\n",
       "    <tr>\n",
       "      <th>3</th>\n",
       "      <td>2017</td>\n",
       "      <td>7547858925</td>\n",
       "      <td>1.12</td>\n",
       "      <td>83836876</td>\n",
       "      <td>51</td>\n",
       "      <td>4140188594</td>\n",
       "      <td>55</td>\n",
       "    </tr>\n",
       "    <tr>\n",
       "      <th>4</th>\n",
       "      <td>2016</td>\n",
       "      <td>7464022049</td>\n",
       "      <td>1.14</td>\n",
       "      <td>84224910</td>\n",
       "      <td>50</td>\n",
       "      <td>4060652683</td>\n",
       "      <td>54</td>\n",
       "    </tr>\n",
       "  </tbody>\n",
       "</table>\n",
       "</div>"
      ],
      "text/plain": [
       "   Year  Population  ChangePerc  NetChange  Density       Urban  UrbanPerc\n",
       "0  2020  7794798739        1.05   81330639       52  4378993944         56\n",
       "1  2019  7713468100        1.08   82377060       52  4299438618         56\n",
       "2  2018  7631091040        1.10   83232115       51  4219817318         55\n",
       "3  2017  7547858925        1.12   83836876       51  4140188594         55\n",
       "4  2016  7464022049        1.14   84224910       50  4060652683         54"
      ]
     },
     "execution_count": 40,
     "metadata": {},
     "output_type": "execute_result"
    }
   ],
   "source": [
    "df = pd.read_csv('F:\\Machine Learning\\Task\\WorldPopulation.csv')\n",
    "df.head()"
   ]
  },
  {
   "cell_type": "code",
   "execution_count": 41,
   "metadata": {},
   "outputs": [
    {
     "data": {
      "text/html": [
       "<div>\n",
       "<style scoped>\n",
       "    .dataframe tbody tr th:only-of-type {\n",
       "        vertical-align: middle;\n",
       "    }\n",
       "\n",
       "    .dataframe tbody tr th {\n",
       "        vertical-align: top;\n",
       "    }\n",
       "\n",
       "    .dataframe thead th {\n",
       "        text-align: right;\n",
       "    }\n",
       "</style>\n",
       "<table border=\"1\" class=\"dataframe\">\n",
       "  <thead>\n",
       "    <tr style=\"text-align: right;\">\n",
       "      <th></th>\n",
       "      <th>Year</th>\n",
       "      <th>Population</th>\n",
       "      <th>ChangePerc</th>\n",
       "      <th>NetChange</th>\n",
       "      <th>Density</th>\n",
       "      <th>Urban</th>\n",
       "      <th>UrbanPerc</th>\n",
       "    </tr>\n",
       "  </thead>\n",
       "  <tbody>\n",
       "    <tr>\n",
       "      <th>65</th>\n",
       "      <td>1955</td>\n",
       "      <td>2773019936</td>\n",
       "      <td>1.77</td>\n",
       "      <td>48173195</td>\n",
       "      <td>19</td>\n",
       "      <td>877008842</td>\n",
       "      <td>32</td>\n",
       "    </tr>\n",
       "    <tr>\n",
       "      <th>66</th>\n",
       "      <td>1954</td>\n",
       "      <td>2724846741</td>\n",
       "      <td>1.76</td>\n",
       "      <td>47237781</td>\n",
       "      <td>18</td>\n",
       "      <td>850179106</td>\n",
       "      <td>31</td>\n",
       "    </tr>\n",
       "    <tr>\n",
       "      <th>67</th>\n",
       "      <td>1953</td>\n",
       "      <td>2677608960</td>\n",
       "      <td>1.78</td>\n",
       "      <td>46747398</td>\n",
       "      <td>18</td>\n",
       "      <td>824289989</td>\n",
       "      <td>31</td>\n",
       "    </tr>\n",
       "    <tr>\n",
       "      <th>68</th>\n",
       "      <td>1952</td>\n",
       "      <td>2630861562</td>\n",
       "      <td>1.81</td>\n",
       "      <td>46827301</td>\n",
       "      <td>18</td>\n",
       "      <td>799282533</td>\n",
       "      <td>30</td>\n",
       "    </tr>\n",
       "    <tr>\n",
       "      <th>69</th>\n",
       "      <td>1951</td>\n",
       "      <td>2584034261</td>\n",
       "      <td>1.88</td>\n",
       "      <td>47603112</td>\n",
       "      <td>17</td>\n",
       "      <td>775067697</td>\n",
       "      <td>30</td>\n",
       "    </tr>\n",
       "  </tbody>\n",
       "</table>\n",
       "</div>"
      ],
      "text/plain": [
       "    Year  Population  ChangePerc  NetChange  Density      Urban  UrbanPerc\n",
       "65  1955  2773019936        1.77   48173195       19  877008842         32\n",
       "66  1954  2724846741        1.76   47237781       18  850179106         31\n",
       "67  1953  2677608960        1.78   46747398       18  824289989         31\n",
       "68  1952  2630861562        1.81   46827301       18  799282533         30\n",
       "69  1951  2584034261        1.88   47603112       17  775067697         30"
      ]
     },
     "execution_count": 41,
     "metadata": {},
     "output_type": "execute_result"
    }
   ],
   "source": [
    "df.tail()"
   ]
  },
  {
   "cell_type": "code",
   "execution_count": 42,
   "metadata": {},
   "outputs": [
    {
     "data": {
      "text/html": [
       "<div>\n",
       "<style scoped>\n",
       "    .dataframe tbody tr th:only-of-type {\n",
       "        vertical-align: middle;\n",
       "    }\n",
       "\n",
       "    .dataframe tbody tr th {\n",
       "        vertical-align: top;\n",
       "    }\n",
       "\n",
       "    .dataframe thead th {\n",
       "        text-align: right;\n",
       "    }\n",
       "</style>\n",
       "<table border=\"1\" class=\"dataframe\">\n",
       "  <thead>\n",
       "    <tr style=\"text-align: right;\">\n",
       "      <th></th>\n",
       "      <th>Year</th>\n",
       "      <th>Population</th>\n",
       "      <th>ChangePerc</th>\n",
       "      <th>NetChange</th>\n",
       "      <th>Density</th>\n",
       "      <th>Urban</th>\n",
       "      <th>UrbanPerc</th>\n",
       "    </tr>\n",
       "  </thead>\n",
       "  <tbody>\n",
       "    <tr>\n",
       "      <th>count</th>\n",
       "      <td>70.000000</td>\n",
       "      <td>7.000000e+01</td>\n",
       "      <td>70.000000</td>\n",
       "      <td>7.000000e+01</td>\n",
       "      <td>70.000000</td>\n",
       "      <td>7.000000e+01</td>\n",
       "      <td>70.000000</td>\n",
       "    </tr>\n",
       "    <tr>\n",
       "      <th>mean</th>\n",
       "      <td>1985.500000</td>\n",
       "      <td>5.002010e+09</td>\n",
       "      <td>1.616429</td>\n",
       "      <td>7.511954e+07</td>\n",
       "      <td>33.557143</td>\n",
       "      <td>2.226815e+09</td>\n",
       "      <td>42.200000</td>\n",
       "    </tr>\n",
       "    <tr>\n",
       "      <th>std</th>\n",
       "      <td>20.351085</td>\n",
       "      <td>1.594877e+09</td>\n",
       "      <td>0.321288</td>\n",
       "      <td>1.256972e+07</td>\n",
       "      <td>10.723989</td>\n",
       "      <td>1.070191e+09</td>\n",
       "      <td>7.447595</td>\n",
       "    </tr>\n",
       "    <tr>\n",
       "      <th>min</th>\n",
       "      <td>1951.000000</td>\n",
       "      <td>2.584034e+09</td>\n",
       "      <td>1.050000</td>\n",
       "      <td>4.674740e+07</td>\n",
       "      <td>17.000000</td>\n",
       "      <td>7.750677e+08</td>\n",
       "      <td>30.000000</td>\n",
       "    </tr>\n",
       "    <tr>\n",
       "      <th>25%</th>\n",
       "      <td>1968.250000</td>\n",
       "      <td>3.570120e+09</td>\n",
       "      <td>1.262500</td>\n",
       "      <td>7.314225e+07</td>\n",
       "      <td>24.000000</td>\n",
       "      <td>1.294408e+09</td>\n",
       "      <td>36.000000</td>\n",
       "    </tr>\n",
       "    <tr>\n",
       "      <th>50%</th>\n",
       "      <td>1985.500000</td>\n",
       "      <td>4.915745e+09</td>\n",
       "      <td>1.770000</td>\n",
       "      <td>7.942852e+07</td>\n",
       "      <td>33.000000</td>\n",
       "      <td>2.035272e+09</td>\n",
       "      <td>41.500000</td>\n",
       "    </tr>\n",
       "    <tr>\n",
       "      <th>75%</th>\n",
       "      <td>2002.750000</td>\n",
       "      <td>6.361332e+09</td>\n",
       "      <td>1.847500</td>\n",
       "      <td>8.356683e+07</td>\n",
       "      <td>42.750000</td>\n",
       "      <td>3.054260e+09</td>\n",
       "      <td>48.000000</td>\n",
       "    </tr>\n",
       "    <tr>\n",
       "      <th>max</th>\n",
       "      <td>2020.000000</td>\n",
       "      <td>7.794799e+09</td>\n",
       "      <td>2.090000</td>\n",
       "      <td>9.290386e+07</td>\n",
       "      <td>52.000000</td>\n",
       "      <td>4.378994e+09</td>\n",
       "      <td>56.000000</td>\n",
       "    </tr>\n",
       "  </tbody>\n",
       "</table>\n",
       "</div>"
      ],
      "text/plain": [
       "              Year    Population  ChangePerc     NetChange    Density  \\\n",
       "count    70.000000  7.000000e+01   70.000000  7.000000e+01  70.000000   \n",
       "mean   1985.500000  5.002010e+09    1.616429  7.511954e+07  33.557143   \n",
       "std      20.351085  1.594877e+09    0.321288  1.256972e+07  10.723989   \n",
       "min    1951.000000  2.584034e+09    1.050000  4.674740e+07  17.000000   \n",
       "25%    1968.250000  3.570120e+09    1.262500  7.314225e+07  24.000000   \n",
       "50%    1985.500000  4.915745e+09    1.770000  7.942852e+07  33.000000   \n",
       "75%    2002.750000  6.361332e+09    1.847500  8.356683e+07  42.750000   \n",
       "max    2020.000000  7.794799e+09    2.090000  9.290386e+07  52.000000   \n",
       "\n",
       "              Urban  UrbanPerc  \n",
       "count  7.000000e+01  70.000000  \n",
       "mean   2.226815e+09  42.200000  \n",
       "std    1.070191e+09   7.447595  \n",
       "min    7.750677e+08  30.000000  \n",
       "25%    1.294408e+09  36.000000  \n",
       "50%    2.035272e+09  41.500000  \n",
       "75%    3.054260e+09  48.000000  \n",
       "max    4.378994e+09  56.000000  "
      ]
     },
     "execution_count": 42,
     "metadata": {},
     "output_type": "execute_result"
    }
   ],
   "source": [
    "df.describe()"
   ]
  },
  {
   "cell_type": "code",
   "execution_count": 43,
   "metadata": {},
   "outputs": [
    {
     "data": {
      "text/plain": [
       "Year          0\n",
       "Population    0\n",
       "ChangePerc    0\n",
       "NetChange     0\n",
       "Density       0\n",
       "Urban         0\n",
       "UrbanPerc     0\n",
       "dtype: int64"
      ]
     },
     "execution_count": 43,
     "metadata": {},
     "output_type": "execute_result"
    }
   ],
   "source": [
    "df.isnull().sum()"
   ]
  },
  {
   "cell_type": "code",
   "execution_count": 44,
   "metadata": {},
   "outputs": [
    {
     "name": "stdout",
     "output_type": "stream",
     "text": [
      "<class 'pandas.core.frame.DataFrame'>\n",
      "RangeIndex: 70 entries, 0 to 69\n",
      "Data columns (total 7 columns):\n",
      " #   Column      Non-Null Count  Dtype  \n",
      "---  ------      --------------  -----  \n",
      " 0   Year        70 non-null     int64  \n",
      " 1   Population  70 non-null     int64  \n",
      " 2   ChangePerc  70 non-null     float64\n",
      " 3   NetChange   70 non-null     int64  \n",
      " 4   Density     70 non-null     int64  \n",
      " 5   Urban       70 non-null     int64  \n",
      " 6   UrbanPerc   70 non-null     int64  \n",
      "dtypes: float64(1), int64(6)\n",
      "memory usage: 4.0 KB\n"
     ]
    }
   ],
   "source": [
    "df.info()"
   ]
  },
  {
   "cell_type": "code",
   "execution_count": 45,
   "metadata": {},
   "outputs": [
    {
     "data": {
      "text/plain": [
       "(70, 7)"
      ]
     },
     "execution_count": 45,
     "metadata": {},
     "output_type": "execute_result"
    }
   ],
   "source": [
    "df.shape"
   ]
  },
  {
   "cell_type": "code",
   "execution_count": 46,
   "metadata": {},
   "outputs": [],
   "source": [
    "x = df.iloc[:,:3]\n",
    "y = df.iloc[:,4]"
   ]
  },
  {
   "cell_type": "code",
   "execution_count": 47,
   "metadata": {},
   "outputs": [
    {
     "data": {
      "text/html": [
       "<div>\n",
       "<style scoped>\n",
       "    .dataframe tbody tr th:only-of-type {\n",
       "        vertical-align: middle;\n",
       "    }\n",
       "\n",
       "    .dataframe tbody tr th {\n",
       "        vertical-align: top;\n",
       "    }\n",
       "\n",
       "    .dataframe thead th {\n",
       "        text-align: right;\n",
       "    }\n",
       "</style>\n",
       "<table border=\"1\" class=\"dataframe\">\n",
       "  <thead>\n",
       "    <tr style=\"text-align: right;\">\n",
       "      <th></th>\n",
       "      <th>Year</th>\n",
       "      <th>Population</th>\n",
       "      <th>ChangePerc</th>\n",
       "    </tr>\n",
       "  </thead>\n",
       "  <tbody>\n",
       "    <tr>\n",
       "      <th>0</th>\n",
       "      <td>2020</td>\n",
       "      <td>7794798739</td>\n",
       "      <td>1.05</td>\n",
       "    </tr>\n",
       "    <tr>\n",
       "      <th>1</th>\n",
       "      <td>2019</td>\n",
       "      <td>7713468100</td>\n",
       "      <td>1.08</td>\n",
       "    </tr>\n",
       "    <tr>\n",
       "      <th>2</th>\n",
       "      <td>2018</td>\n",
       "      <td>7631091040</td>\n",
       "      <td>1.10</td>\n",
       "    </tr>\n",
       "    <tr>\n",
       "      <th>3</th>\n",
       "      <td>2017</td>\n",
       "      <td>7547858925</td>\n",
       "      <td>1.12</td>\n",
       "    </tr>\n",
       "    <tr>\n",
       "      <th>4</th>\n",
       "      <td>2016</td>\n",
       "      <td>7464022049</td>\n",
       "      <td>1.14</td>\n",
       "    </tr>\n",
       "  </tbody>\n",
       "</table>\n",
       "</div>"
      ],
      "text/plain": [
       "   Year  Population  ChangePerc\n",
       "0  2020  7794798739        1.05\n",
       "1  2019  7713468100        1.08\n",
       "2  2018  7631091040        1.10\n",
       "3  2017  7547858925        1.12\n",
       "4  2016  7464022049        1.14"
      ]
     },
     "execution_count": 47,
     "metadata": {},
     "output_type": "execute_result"
    }
   ],
   "source": [
    "x.head()"
   ]
  },
  {
   "cell_type": "code",
   "execution_count": 48,
   "metadata": {},
   "outputs": [
    {
     "data": {
      "text/plain": [
       "0    52\n",
       "1    52\n",
       "2    51\n",
       "3    51\n",
       "4    50\n",
       "Name: Density, dtype: int64"
      ]
     },
     "execution_count": 48,
     "metadata": {},
     "output_type": "execute_result"
    }
   ],
   "source": [
    "y.head()"
   ]
  },
  {
   "cell_type": "code",
   "execution_count": 49,
   "metadata": {},
   "outputs": [
    {
     "name": "stdout",
     "output_type": "stream",
     "text": [
      "X_shape:-  (70, 3)\n",
      "Y_shape:-  (70,)\n"
     ]
    }
   ],
   "source": [
    "print('X_shape:- ',x.shape)\n",
    "print('Y_shape:- ',y.shape)"
   ]
  },
  {
   "cell_type": "markdown",
   "metadata": {},
   "source": [
    "### Train Test Split"
   ]
  },
  {
   "cell_type": "code",
   "execution_count": 50,
   "metadata": {},
   "outputs": [],
   "source": [
    "from sklearn.model_selection import train_test_split"
   ]
  },
  {
   "cell_type": "code",
   "execution_count": 51,
   "metadata": {},
   "outputs": [
    {
     "name": "stdout",
     "output_type": "stream",
     "text": [
      "X_train Shape - (56, 3)\n",
      "X_test Shape - (14, 3)\n",
      "Y_train Shape - (56,)\n",
      "Y_test Shape - (14,)\n"
     ]
    }
   ],
   "source": [
    "x_train,x_test,y_train,y_test = train_test_split(x,y,test_size = 0.2,random_state = 95)\n",
    "print('X_train Shape -',x_train.shape)\n",
    "print('X_test Shape -',x_test.shape)\n",
    "print('Y_train Shape -',y_train.shape)\n",
    "print('Y_test Shape -',y_test.shape)"
   ]
  },
  {
   "cell_type": "markdown",
   "metadata": {},
   "source": [
    "### Importing Linear Algo"
   ]
  },
  {
   "cell_type": "code",
   "execution_count": 52,
   "metadata": {},
   "outputs": [],
   "source": [
    "from sklearn.linear_model import LinearRegression"
   ]
  },
  {
   "cell_type": "code",
   "execution_count": 53,
   "metadata": {},
   "outputs": [],
   "source": [
    "lr = LinearRegression()"
   ]
  },
  {
   "cell_type": "code",
   "execution_count": 54,
   "metadata": {},
   "outputs": [
    {
     "data": {
      "text/plain": [
       "LinearRegression()"
      ]
     },
     "execution_count": 54,
     "metadata": {},
     "output_type": "execute_result"
    }
   ],
   "source": [
    "lr.fit(x_train,y_train)"
   ]
  },
  {
   "cell_type": "markdown",
   "metadata": {},
   "source": [
    "### Prediction"
   ]
  },
  {
   "cell_type": "code",
   "execution_count": 55,
   "metadata": {},
   "outputs": [
    {
     "data": {
      "text/plain": [
       "array([20.37952195, 28.37040829, 22.41821927, 45.00869835, 36.34816792,\n",
       "       22.88012379, 46.69880271, 24.34410255, 31.53048731, 27.37211385,\n",
       "       47.26705854, 43.90414034, 42.28934053, 40.69677895])"
      ]
     },
     "execution_count": 55,
     "metadata": {},
     "output_type": "execute_result"
    }
   ],
   "source": [
    "y_pred = lr.predict(x_test)\n",
    "y_pred"
   ]
  },
  {
   "cell_type": "code",
   "execution_count": 56,
   "metadata": {},
   "outputs": [],
   "source": [
    "from sklearn.metrics import r2_score"
   ]
  },
  {
   "cell_type": "code",
   "execution_count": 57,
   "metadata": {},
   "outputs": [
    {
     "data": {
      "text/plain": [
       "99.89318807288566"
      ]
     },
     "execution_count": 57,
     "metadata": {},
     "output_type": "execute_result"
    }
   ],
   "source": [
    "r2_score(y_test,y_pred)*100"
   ]
  },
  {
   "cell_type": "code",
   "execution_count": 58,
   "metadata": {},
   "outputs": [
    {
     "data": {
      "text/plain": [
       "array([51.24])"
      ]
     },
     "execution_count": 58,
     "metadata": {},
     "output_type": "execute_result"
    }
   ],
   "source": [
    "lr.predict([[2018,7631091040,1.10]]).round(2)"
   ]
  },
  {
   "cell_type": "code",
   "execution_count": 59,
   "metadata": {},
   "outputs": [
    {
     "data": {
      "text/html": [
       "<div>\n",
       "<style scoped>\n",
       "    .dataframe tbody tr th:only-of-type {\n",
       "        vertical-align: middle;\n",
       "    }\n",
       "\n",
       "    .dataframe tbody tr th {\n",
       "        vertical-align: top;\n",
       "    }\n",
       "\n",
       "    .dataframe thead th {\n",
       "        text-align: right;\n",
       "    }\n",
       "</style>\n",
       "<table border=\"1\" class=\"dataframe\">\n",
       "  <thead>\n",
       "    <tr style=\"text-align: right;\">\n",
       "      <th></th>\n",
       "      <th>Year</th>\n",
       "      <th>Population</th>\n",
       "      <th>ChangePerc</th>\n",
       "      <th>NetChange</th>\n",
       "      <th>Density</th>\n",
       "      <th>Urban</th>\n",
       "      <th>UrbanPerc</th>\n",
       "    </tr>\n",
       "  </thead>\n",
       "  <tbody>\n",
       "    <tr>\n",
       "      <th>0</th>\n",
       "      <td>2020</td>\n",
       "      <td>7794798739</td>\n",
       "      <td>1.05</td>\n",
       "      <td>81330639</td>\n",
       "      <td>52</td>\n",
       "      <td>4378993944</td>\n",
       "      <td>56</td>\n",
       "    </tr>\n",
       "    <tr>\n",
       "      <th>1</th>\n",
       "      <td>2019</td>\n",
       "      <td>7713468100</td>\n",
       "      <td>1.08</td>\n",
       "      <td>82377060</td>\n",
       "      <td>52</td>\n",
       "      <td>4299438618</td>\n",
       "      <td>56</td>\n",
       "    </tr>\n",
       "    <tr>\n",
       "      <th>2</th>\n",
       "      <td>2018</td>\n",
       "      <td>7631091040</td>\n",
       "      <td>1.10</td>\n",
       "      <td>83232115</td>\n",
       "      <td>51</td>\n",
       "      <td>4219817318</td>\n",
       "      <td>55</td>\n",
       "    </tr>\n",
       "    <tr>\n",
       "      <th>3</th>\n",
       "      <td>2017</td>\n",
       "      <td>7547858925</td>\n",
       "      <td>1.12</td>\n",
       "      <td>83836876</td>\n",
       "      <td>51</td>\n",
       "      <td>4140188594</td>\n",
       "      <td>55</td>\n",
       "    </tr>\n",
       "    <tr>\n",
       "      <th>4</th>\n",
       "      <td>2016</td>\n",
       "      <td>7464022049</td>\n",
       "      <td>1.14</td>\n",
       "      <td>84224910</td>\n",
       "      <td>50</td>\n",
       "      <td>4060652683</td>\n",
       "      <td>54</td>\n",
       "    </tr>\n",
       "  </tbody>\n",
       "</table>\n",
       "</div>"
      ],
      "text/plain": [
       "   Year  Population  ChangePerc  NetChange  Density       Urban  UrbanPerc\n",
       "0  2020  7794798739        1.05   81330639       52  4378993944         56\n",
       "1  2019  7713468100        1.08   82377060       52  4299438618         56\n",
       "2  2018  7631091040        1.10   83232115       51  4219817318         55\n",
       "3  2017  7547858925        1.12   83836876       51  4140188594         55\n",
       "4  2016  7464022049        1.14   84224910       50  4060652683         54"
      ]
     },
     "execution_count": 59,
     "metadata": {},
     "output_type": "execute_result"
    }
   ],
   "source": [
    "df.head()"
   ]
  },
  {
   "cell_type": "code",
   "execution_count": 60,
   "metadata": {},
   "outputs": [
    {
     "data": {
      "text/html": [
       "<div>\n",
       "<style scoped>\n",
       "    .dataframe tbody tr th:only-of-type {\n",
       "        vertical-align: middle;\n",
       "    }\n",
       "\n",
       "    .dataframe tbody tr th {\n",
       "        vertical-align: top;\n",
       "    }\n",
       "\n",
       "    .dataframe thead th {\n",
       "        text-align: right;\n",
       "    }\n",
       "</style>\n",
       "<table border=\"1\" class=\"dataframe\">\n",
       "  <thead>\n",
       "    <tr style=\"text-align: right;\">\n",
       "      <th></th>\n",
       "      <th>Year</th>\n",
       "      <th>Population</th>\n",
       "      <th>ChangePerc</th>\n",
       "      <th>NetChange</th>\n",
       "      <th>Density</th>\n",
       "      <th>Urban</th>\n",
       "      <th>UrbanPerc</th>\n",
       "    </tr>\n",
       "  </thead>\n",
       "  <tbody>\n",
       "    <tr>\n",
       "      <th>65</th>\n",
       "      <td>1955</td>\n",
       "      <td>2773019936</td>\n",
       "      <td>1.77</td>\n",
       "      <td>48173195</td>\n",
       "      <td>19</td>\n",
       "      <td>877008842</td>\n",
       "      <td>32</td>\n",
       "    </tr>\n",
       "    <tr>\n",
       "      <th>66</th>\n",
       "      <td>1954</td>\n",
       "      <td>2724846741</td>\n",
       "      <td>1.76</td>\n",
       "      <td>47237781</td>\n",
       "      <td>18</td>\n",
       "      <td>850179106</td>\n",
       "      <td>31</td>\n",
       "    </tr>\n",
       "    <tr>\n",
       "      <th>67</th>\n",
       "      <td>1953</td>\n",
       "      <td>2677608960</td>\n",
       "      <td>1.78</td>\n",
       "      <td>46747398</td>\n",
       "      <td>18</td>\n",
       "      <td>824289989</td>\n",
       "      <td>31</td>\n",
       "    </tr>\n",
       "    <tr>\n",
       "      <th>68</th>\n",
       "      <td>1952</td>\n",
       "      <td>2630861562</td>\n",
       "      <td>1.81</td>\n",
       "      <td>46827301</td>\n",
       "      <td>18</td>\n",
       "      <td>799282533</td>\n",
       "      <td>30</td>\n",
       "    </tr>\n",
       "    <tr>\n",
       "      <th>69</th>\n",
       "      <td>1951</td>\n",
       "      <td>2584034261</td>\n",
       "      <td>1.88</td>\n",
       "      <td>47603112</td>\n",
       "      <td>17</td>\n",
       "      <td>775067697</td>\n",
       "      <td>30</td>\n",
       "    </tr>\n",
       "  </tbody>\n",
       "</table>\n",
       "</div>"
      ],
      "text/plain": [
       "    Year  Population  ChangePerc  NetChange  Density      Urban  UrbanPerc\n",
       "65  1955  2773019936        1.77   48173195       19  877008842         32\n",
       "66  1954  2724846741        1.76   47237781       18  850179106         31\n",
       "67  1953  2677608960        1.78   46747398       18  824289989         31\n",
       "68  1952  2630861562        1.81   46827301       18  799282533         30\n",
       "69  1951  2584034261        1.88   47603112       17  775067697         30"
      ]
     },
     "execution_count": 60,
     "metadata": {},
     "output_type": "execute_result"
    }
   ],
   "source": [
    "df.tail()"
   ]
  },
  {
   "cell_type": "code",
   "execution_count": 61,
   "metadata": {},
   "outputs": [
    {
     "data": {
      "text/plain": [
       "array([18.])"
      ]
     },
     "execution_count": 61,
     "metadata": {},
     "output_type": "execute_result"
    }
   ],
   "source": [
    "lr.predict([[1954,2724846741,1.76]]).round()"
   ]
  },
  {
   "cell_type": "code",
   "execution_count": null,
   "metadata": {},
   "outputs": [],
   "source": []
  }
 ],
 "metadata": {
  "kernelspec": {
   "display_name": "Python 3",
   "language": "python",
   "name": "python3"
  },
  "language_info": {
   "codemirror_mode": {
    "name": "ipython",
    "version": 3
   },
   "file_extension": ".py",
   "mimetype": "text/x-python",
   "name": "python",
   "nbconvert_exporter": "python",
   "pygments_lexer": "ipython3",
   "version": "3.8.5"
  }
 },
 "nbformat": 4,
 "nbformat_minor": 4
}
